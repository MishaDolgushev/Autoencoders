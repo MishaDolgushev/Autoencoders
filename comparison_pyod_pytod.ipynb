{
 "cells": [
  {
   "cell_type": "code",
   "execution_count": 42,
   "metadata": {},
   "outputs": [],
   "source": [
    "from pyod.models.abod import ABOD \n",
    "from pyod.models.knn import KNN \n",
    "from pyod.models.hbos import HBOS \n",
    "from pyod.models.lof import LOF\n",
    "from pyod.models.pca import PCA\n",
    "\n",
    "from pytod.models.abod import ABOD as t_ABOD\n",
    "from pytod.models.knn import KNN as t_KNN\n",
    "from pytod.models.hbos import HBOS as t_HBOS\n",
    "from pytod.models.lof import LOF as t_LOF\n",
    "from pytod.models.pca import PCA as t_PCA\n",
    "\n",
    "import numpy as np\n",
    "import pandas as pd\n",
    "import torch"
   ]
  },
  {
   "cell_type": "code",
   "execution_count": 43,
   "metadata": {},
   "outputs": [],
   "source": [
    "# !git clone https://github.com/jeffprosise/Machine-Learning.git"
   ]
  },
  {
   "cell_type": "code",
   "execution_count": 44,
   "metadata": {},
   "outputs": [],
   "source": [
    "import pandas as pd\n",
    "\n",
    "data = pd.read_csv('./Machine-Learning/Data/creditcard.zip')\n",
    "X, ground_truth = data.drop('Class', axis = 1).copy(), data['Class']"
   ]
  },
  {
   "cell_type": "code",
   "execution_count": 45,
   "metadata": {},
   "outputs": [
    {
     "data": {
      "text/plain": [
       "Class\n",
       "0    284315\n",
       "1       492\n",
       "Name: count, dtype: int64"
      ]
     },
     "execution_count": 45,
     "metadata": {},
     "output_type": "execute_result"
    }
   ],
   "source": [
    "ground_truth.value_counts()"
   ]
  },
  {
   "cell_type": "code",
   "execution_count": 46,
   "metadata": {},
   "outputs": [
    {
     "data": {
      "text/plain": [
       "'cuda'"
      ]
     },
     "execution_count": 46,
     "metadata": {},
     "output_type": "execute_result"
    }
   ],
   "source": [
    "contamination = 492/284315\n",
    "batch_size = 8192\n",
    "device = 'cuda' if torch.cuda.is_available() else 'cpu'\n",
    "device"
   ]
  },
  {
   "cell_type": "code",
   "execution_count": 47,
   "metadata": {},
   "outputs": [],
   "source": [
    "pyod_models = {\n",
    "    'ABOD': ABOD(\n",
    "        contamination=contamination),\n",
    "    'KNN': KNN(\n",
    "        contamination=contamination),\n",
    "    'HBOS': HBOS(\n",
    "    contamination=contamination),\n",
    "    'LOF': LOF(\n",
    "    contamination=contamination),\n",
    "    'PCA': PCA(\n",
    "    contamination=contamination)\n",
    "}\n",
    "\n",
    "pytod_models = {\n",
    "    'ABOD': t_ABOD(\n",
    "        contamination=contamination, device=device, batch_size=batch_size),\n",
    "    'KNN': t_KNN(\n",
    "        contamination=contamination, device=device, batch_size=batch_size),\n",
    "    'HBOS': t_HBOS(\n",
    "    contamination=contamination, device=device),\n",
    "    'LOF': t_LOF(\n",
    "    contamination=contamination, device=device, batch_size=batch_size),\n",
    "    'PCA': t_PCA(\n",
    "    contamination=contamination, device=device)\n",
    "}"
   ]
  },
  {
   "cell_type": "code",
   "execution_count": 48,
   "metadata": {},
   "outputs": [
    {
     "name": "stderr",
     "output_type": "stream",
     "text": [
      "c:\\Users\\USER\\Desktop\\код\\dz_shad\\antifrod\\venv\\lib\\site-packages\\numpy\\core\\fromnumeric.py:3787: RuntimeWarning: Degrees of freedom <= 0 for slice\n",
      "  return _methods._var(a, axis=axis, dtype=dtype, out=out, ddof=ddof,\n",
      "c:\\Users\\USER\\Desktop\\код\\dz_shad\\antifrod\\venv\\lib\\site-packages\\numpy\\core\\_methods.py:163: RuntimeWarning: invalid value encountered in divide\n",
      "  arrmean = um.true_divide(arrmean, div, out=arrmean,\n",
      "c:\\Users\\USER\\Desktop\\код\\dz_shad\\antifrod\\venv\\lib\\site-packages\\numpy\\core\\_methods.py:198: RuntimeWarning: invalid value encountered in scalar divide\n",
      "  ret = ret.dtype.type(ret / rcount)\n"
     ]
    },
    {
     "name": "stdout",
     "output_type": "stream",
     "text": [
      "n_batches 34\n",
      "n_batches 34\n",
      "[(0, 8192), (8192, 16384), (16384, 24576), (24576, 32768), (32768, 40960), (40960, 49152), (49152, 57344), (57344, 65536), (65536, 73728), (73728, 81920), (81920, 90112), (90112, 98304), (98304, 106496), (106496, 114688), (114688, 122880), (122880, 131072), (131072, 139264), (139264, 147456), (147456, 155648), (155648, 163840), (163840, 172032), (172032, 180224), (180224, 188416), (188416, 196608), (196608, 204800), (204800, 212992), (212992, 221184), (221184, 229376), (229376, 237568), (237568, 245760), (245760, 253952), (253952, 262144), (262144, 270336), (270336, 278528), (278528, 284807)]\n",
      "[(0, 8192), (8192, 16384), (16384, 24576), (24576, 32768), (32768, 40960), (40960, 49152), (49152, 57344), (57344, 65536), (65536, 73728), (73728, 81920), (81920, 90112), (90112, 98304), (98304, 106496), (106496, 114688), (114688, 122880), (122880, 131072), (131072, 139264), (139264, 147456), (147456, 155648), (155648, 163840), (163840, 172032), (172032, 180224), (180224, 188416), (188416, 196608), (196608, 204800), (204800, 212992), (212992, 221184), (221184, 229376), (229376, 237568), (237568, 245760), (245760, 253952), (253952, 262144), (262144, 270336), (270336, 278528), (278528, 284807)]\n",
      "ABOD\n",
      "n_batches 34\n",
      "n_batches 34\n",
      "[(0, 8192), (8192, 16384), (16384, 24576), (24576, 32768), (32768, 40960), (40960, 49152), (49152, 57344), (57344, 65536), (65536, 73728), (73728, 81920), (81920, 90112), (90112, 98304), (98304, 106496), (106496, 114688), (114688, 122880), (122880, 131072), (131072, 139264), (139264, 147456), (147456, 155648), (155648, 163840), (163840, 172032), (172032, 180224), (180224, 188416), (188416, 196608), (196608, 204800), (204800, 212992), (212992, 221184), (221184, 229376), (229376, 237568), (237568, 245760), (245760, 253952), (253952, 262144), (262144, 270336), (270336, 278528), (278528, 284807)]\n",
      "[(0, 8192), (8192, 16384), (16384, 24576), (24576, 32768), (32768, 40960), (40960, 49152), (49152, 57344), (57344, 65536), (65536, 73728), (73728, 81920), (81920, 90112), (90112, 98304), (98304, 106496), (106496, 114688), (114688, 122880), (122880, 131072), (131072, 139264), (139264, 147456), (147456, 155648), (155648, 163840), (163840, 172032), (172032, 180224), (180224, 188416), (188416, 196608), (196608, 204800), (204800, 212992), (212992, 221184), (221184, 229376), (229376, 237568), (237568, 245760), (245760, 253952), (253952, 262144), (262144, 270336), (270336, 278528), (278528, 284807)]\n",
      "KNN\n"
     ]
    },
    {
     "name": "stderr",
     "output_type": "stream",
     "text": [
      "c:\\Users\\USER\\Desktop\\код\\dz_shad\\antifrod\\venv\\lib\\site-packages\\pytod\\models\\hbos.py:107: UserWarning: torch.searchsorted(): boundary tensor is non-contiguous, this will lower the performance due to extra data copy when converting non-contiguous tensor to contiguous, please use contiguous boundary tensor if possible. This message will only appear once per program. (Triggered internally at ../aten/src\\ATen/native/BucketizationUtils.h:40.)\n",
      "  bin_inds = torch.bucketize(X[:, i], bin_edges[:, i])\n"
     ]
    },
    {
     "name": "stdout",
     "output_type": "stream",
     "text": [
      "HBOS\n",
      "n_batches 34\n",
      "n_batches 34\n",
      "[(0, 8192), (8192, 16384), (16384, 24576), (24576, 32768), (32768, 40960), (40960, 49152), (49152, 57344), (57344, 65536), (65536, 73728), (73728, 81920), (81920, 90112), (90112, 98304), (98304, 106496), (106496, 114688), (114688, 122880), (122880, 131072), (131072, 139264), (139264, 147456), (147456, 155648), (155648, 163840), (163840, 172032), (172032, 180224), (180224, 188416), (188416, 196608), (196608, 204800), (204800, 212992), (212992, 221184), (221184, 229376), (229376, 237568), (237568, 245760), (245760, 253952), (253952, 262144), (262144, 270336), (270336, 278528), (278528, 284807)]\n",
      "[(0, 8192), (8192, 16384), (16384, 24576), (24576, 32768), (32768, 40960), (40960, 49152), (49152, 57344), (57344, 65536), (65536, 73728), (73728, 81920), (81920, 90112), (90112, 98304), (98304, 106496), (106496, 114688), (114688, 122880), (122880, 131072), (131072, 139264), (139264, 147456), (147456, 155648), (155648, 163840), (163840, 172032), (172032, 180224), (180224, 188416), (188416, 196608), (196608, 204800), (204800, 212992), (212992, 221184), (221184, 229376), (229376, 237568), (237568, 245760), (245760, 253952), (253952, 262144), (262144, 270336), (270336, 278528), (278528, 284807)]\n"
     ]
    },
    {
     "name": "stderr",
     "output_type": "stream",
     "text": [
      "c:\\Users\\USER\\Desktop\\код\\dz_shad\\antifrod\\venv\\lib\\site-packages\\pytod\\models\\lof.py:120: RuntimeWarning: invalid value encountered in divide\n",
      "  self.decision_scores_ = (ar / ar_nn).cpu().numpy()\n"
     ]
    },
    {
     "name": "stdout",
     "output_type": "stream",
     "text": [
      "LOF\n",
      "PCA\n"
     ]
    }
   ],
   "source": [
    "import time\n",
    "\n",
    "\n",
    "X = torch.tensor(X.values)\n",
    "pyod_time, pytod_time = {}, {}\n",
    "for model in pyod_models.keys():\n",
    "    start = time.time()\n",
    "    pyod_models[model].fit(X)\n",
    "    pyod_time[model] = time.time() - start\n",
    "    \n",
    "    start = time.time()\n",
    "    pytod_models[model].fit(X)\n",
    "    pytod_time[model] = time.time() - start\n",
    "    \n",
    "    print(model)"
   ]
  },
  {
   "cell_type": "code",
   "execution_count": 51,
   "metadata": {},
   "outputs": [
    {
     "name": "stdout",
     "output_type": "stream",
     "text": [
      "ABOD: pyod_time: 242.15169382095337, pytod_time: 209.5871114730835, faster on 1.155374927966656\n",
      "KNN: pyod_time: 198.8228189945221, pytod_time: 174.40488505363464, faster on 1.1400071674218197\n",
      "HBOS: pyod_time: 4.385907888412476, pytod_time: 0.9852609634399414, faster on 4.451518989547207\n",
      "LOF: pyod_time: 328.1706278324127, pytod_time: 168.19001078605652, faster on 1.9511897662570286\n",
      "PCA: pyod_time: 0.39299941062927246, pytod_time: 0.2925102710723877, faster on 1.3435405505197342\n"
     ]
    }
   ],
   "source": [
    "for model in pyod_models.keys():\n",
    "    print(f\"{model}: pyod_time: {pyod_time[model]}, pytod_time: {pytod_time[model]}, faster on {pyod_time[model] / pytod_time[model]}\")"
   ]
  },
  {
   "cell_type": "markdown",
   "metadata": {},
   "source": [
    "У меня крайне странно работает cuda. По неизвестным мне причинам она почти не нагружает gpu (максимум процентов на 10), однако pytod все равно везде оказывается быстрее чем pyod"
   ]
  }
 ],
 "metadata": {
  "kernelspec": {
   "display_name": "venv",
   "language": "python",
   "name": "python3"
  },
  "language_info": {
   "codemirror_mode": {
    "name": "ipython",
    "version": 3
   },
   "file_extension": ".py",
   "mimetype": "text/x-python",
   "name": "python",
   "nbconvert_exporter": "python",
   "pygments_lexer": "ipython3",
   "version": "3.10.0"
  }
 },
 "nbformat": 4,
 "nbformat_minor": 2
}
